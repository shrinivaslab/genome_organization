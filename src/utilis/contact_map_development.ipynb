{
 "cells": [
  {
   "cell_type": "code",
   "execution_count": 14,
   "metadata": {},
   "outputs": [
    {
     "name": "stdout",
     "output_type": "stream",
     "text": [
      "['/Users/kadendimarco/Desktop/Shrivinas_lab/genome_archetecture/chromosomes_openmm/polychrom_base/benchmarking/hp_traj_cones_bm/custom_sticky_force_conf_cp_bl/blocks_0-499.h5', '/Users/kadendimarco/Desktop/Shrivinas_lab/genome_archetecture/chromosomes_openmm/polychrom_base/benchmarking/hp_traj_cones_bm/custom_sticky_force_conf_cp_bl/blocks_500-999.h5', '/Users/kadendimarco/Desktop/Shrivinas_lab/genome_archetecture/chromosomes_openmm/polychrom_base/benchmarking/hp_traj_cones_bm/custom_sticky_force_conf_cp_bl/blocks_1000-1002.h5', '/Users/kadendimarco/Desktop/Shrivinas_lab/genome_archetecture/chromosomes_openmm/polychrom_base/benchmarking/hp_traj_cones_bm/custom_sticky_force_conf_cp_bl/blocks_1003-1003.h5', '/Users/kadendimarco/Desktop/Shrivinas_lab/genome_archetecture/chromosomes_openmm/polychrom_base/benchmarking/hp_traj_cones_bm/custom_sticky_force_conf_cp_bl/blocks_1004-1004.h5', '/Users/kadendimarco/Desktop/Shrivinas_lab/genome_archetecture/chromosomes_openmm/polychrom_base/benchmarking/hp_traj_cones_bm/custom_sticky_force_conf_cp_bl/blocks_1005-1005.h5', '/Users/kadendimarco/Desktop/Shrivinas_lab/genome_archetecture/chromosomes_openmm/polychrom_base/benchmarking/hp_traj_cones_bm/custom_sticky_force_conf_cp_bl/blocks_1006-1006.h5', '/Users/kadendimarco/Desktop/Shrivinas_lab/genome_archetecture/chromosomes_openmm/polychrom_base/benchmarking/hp_traj_cones_bm/custom_sticky_force_conf_cp_bl/blocks_1007-1007.h5', '/Users/kadendimarco/Desktop/Shrivinas_lab/genome_archetecture/chromosomes_openmm/polychrom_base/benchmarking/hp_traj_cones_bm/custom_sticky_force_conf_cp_bl/blocks_1008-1008.h5', '/Users/kadendimarco/Desktop/Shrivinas_lab/genome_archetecture/chromosomes_openmm/polychrom_base/benchmarking/hp_traj_cones_bm/custom_sticky_force_conf_cp_bl/blocks_1009-1009.h5', '/Users/kadendimarco/Desktop/Shrivinas_lab/genome_archetecture/chromosomes_openmm/polychrom_base/benchmarking/hp_traj_cones_bm/custom_sticky_force_conf_cp_bl/blocks_1010-1010.h5', '/Users/kadendimarco/Desktop/Shrivinas_lab/genome_archetecture/chromosomes_openmm/polychrom_base/benchmarking/hp_traj_cones_bm/custom_sticky_force_conf_cp_bl/blocks_1011-1011.h5', '/Users/kadendimarco/Desktop/Shrivinas_lab/genome_archetecture/chromosomes_openmm/polychrom_base/benchmarking/hp_traj_cones_bm/custom_sticky_force_conf_cp_bl/blocks_1012-1012.h5', '/Users/kadendimarco/Desktop/Shrivinas_lab/genome_archetecture/chromosomes_openmm/polychrom_base/benchmarking/hp_traj_cones_bm/custom_sticky_force_conf_cp_bl/blocks_1013-1013.h5', '/Users/kadendimarco/Desktop/Shrivinas_lab/genome_archetecture/chromosomes_openmm/polychrom_base/benchmarking/hp_traj_cones_bm/custom_sticky_force_conf_cp_bl/blocks_1014-1014.h5', '/Users/kadendimarco/Desktop/Shrivinas_lab/genome_archetecture/chromosomes_openmm/polychrom_base/benchmarking/hp_traj_cones_bm/custom_sticky_force_conf_cp_bl/blocks_1015-1015.h5', '/Users/kadendimarco/Desktop/Shrivinas_lab/genome_archetecture/chromosomes_openmm/polychrom_base/benchmarking/hp_traj_cones_bm/custom_sticky_force_conf_cp_bl/blocks_1016-1016.h5', '/Users/kadendimarco/Desktop/Shrivinas_lab/genome_archetecture/chromosomes_openmm/polychrom_base/benchmarking/hp_traj_cones_bm/custom_sticky_force_conf_cp_bl/blocks_1017-1017.h5', '/Users/kadendimarco/Desktop/Shrivinas_lab/genome_archetecture/chromosomes_openmm/polychrom_base/benchmarking/hp_traj_cones_bm/custom_sticky_force_conf_cp_bl/blocks_1018-1018.h5', '/Users/kadendimarco/Desktop/Shrivinas_lab/genome_archetecture/chromosomes_openmm/polychrom_base/benchmarking/hp_traj_cones_bm/custom_sticky_force_conf_cp_bl/blocks_1019-1019.h5', '/Users/kadendimarco/Desktop/Shrivinas_lab/genome_archetecture/chromosomes_openmm/polychrom_base/benchmarking/hp_traj_cones_bm/custom_sticky_force_conf_cp_bl/blocks_1020-1020.h5', '/Users/kadendimarco/Desktop/Shrivinas_lab/genome_archetecture/chromosomes_openmm/polychrom_base/benchmarking/hp_traj_cones_bm/custom_sticky_force_conf_cp_bl/blocks_1021-1021.h5', '/Users/kadendimarco/Desktop/Shrivinas_lab/genome_archetecture/chromosomes_openmm/polychrom_base/benchmarking/hp_traj_cones_bm/custom_sticky_force_conf_cp_bl/blocks_1022-1022.h5', '/Users/kadendimarco/Desktop/Shrivinas_lab/genome_archetecture/chromosomes_openmm/polychrom_base/benchmarking/hp_traj_cones_bm/custom_sticky_force_conf_cp_bl/blocks_1023-1023.h5', '/Users/kadendimarco/Desktop/Shrivinas_lab/genome_archetecture/chromosomes_openmm/polychrom_base/benchmarking/hp_traj_cones_bm/custom_sticky_force_conf_cp_bl/blocks_1024-1024.h5', '/Users/kadendimarco/Desktop/Shrivinas_lab/genome_archetecture/chromosomes_openmm/polychrom_base/benchmarking/hp_traj_cones_bm/custom_sticky_force_conf_cp_bl/blocks_1025-1025.h5', '/Users/kadendimarco/Desktop/Shrivinas_lab/genome_archetecture/chromosomes_openmm/polychrom_base/benchmarking/hp_traj_cones_bm/custom_sticky_force_conf_cp_bl/blocks_1026-1026.h5', '/Users/kadendimarco/Desktop/Shrivinas_lab/genome_archetecture/chromosomes_openmm/polychrom_base/benchmarking/hp_traj_cones_bm/custom_sticky_force_conf_cp_bl/blocks_1027-1027.h5', '/Users/kadendimarco/Desktop/Shrivinas_lab/genome_archetecture/chromosomes_openmm/polychrom_base/benchmarking/hp_traj_cones_bm/custom_sticky_force_conf_cp_bl/blocks_1028-1028.h5', '/Users/kadendimarco/Desktop/Shrivinas_lab/genome_archetecture/chromosomes_openmm/polychrom_base/benchmarking/hp_traj_cones_bm/custom_sticky_force_conf_cp_bl/blocks_1029-1029.h5', '/Users/kadendimarco/Desktop/Shrivinas_lab/genome_archetecture/chromosomes_openmm/polychrom_base/benchmarking/hp_traj_cones_bm/custom_sticky_force_conf_cp_bl/blocks_1030-1030.h5', '/Users/kadendimarco/Desktop/Shrivinas_lab/genome_archetecture/chromosomes_openmm/polychrom_base/benchmarking/hp_traj_cones_bm/custom_sticky_force_conf_cp_bl/blocks_1031-1031.h5', '/Users/kadendimarco/Desktop/Shrivinas_lab/genome_archetecture/chromosomes_openmm/polychrom_base/benchmarking/hp_traj_cones_bm/custom_sticky_force_conf_cp_bl/blocks_1032-1032.h5', '/Users/kadendimarco/Desktop/Shrivinas_lab/genome_archetecture/chromosomes_openmm/polychrom_base/benchmarking/hp_traj_cones_bm/custom_sticky_force_conf_cp_bl/blocks_1033-1033.h5', '/Users/kadendimarco/Desktop/Shrivinas_lab/genome_archetecture/chromosomes_openmm/polychrom_base/benchmarking/hp_traj_cones_bm/custom_sticky_force_conf_cp_bl/blocks_1034-1034.h5', '/Users/kadendimarco/Desktop/Shrivinas_lab/genome_archetecture/chromosomes_openmm/polychrom_base/benchmarking/hp_traj_cones_bm/custom_sticky_force_conf_cp_bl/blocks_1035-1035.h5', '/Users/kadendimarco/Desktop/Shrivinas_lab/genome_archetecture/chromosomes_openmm/polychrom_base/benchmarking/hp_traj_cones_bm/custom_sticky_force_conf_cp_bl/blocks_1036-1036.h5', '/Users/kadendimarco/Desktop/Shrivinas_lab/genome_archetecture/chromosomes_openmm/polychrom_base/benchmarking/hp_traj_cones_bm/custom_sticky_force_conf_cp_bl/blocks_1037-1037.h5', '/Users/kadendimarco/Desktop/Shrivinas_lab/genome_archetecture/chromosomes_openmm/polychrom_base/benchmarking/hp_traj_cones_bm/custom_sticky_force_conf_cp_bl/blocks_1038-1038.h5', '/Users/kadendimarco/Desktop/Shrivinas_lab/genome_archetecture/chromosomes_openmm/polychrom_base/benchmarking/hp_traj_cones_bm/custom_sticky_force_conf_cp_bl/blocks_1039-1039.h5', '/Users/kadendimarco/Desktop/Shrivinas_lab/genome_archetecture/chromosomes_openmm/polychrom_base/benchmarking/hp_traj_cones_bm/custom_sticky_force_conf_cp_bl/blocks_1040-1040.h5', '/Users/kadendimarco/Desktop/Shrivinas_lab/genome_archetecture/chromosomes_openmm/polychrom_base/benchmarking/hp_traj_cones_bm/custom_sticky_force_conf_cp_bl/blocks_1041-1041.h5', '/Users/kadendimarco/Desktop/Shrivinas_lab/genome_archetecture/chromosomes_openmm/polychrom_base/benchmarking/hp_traj_cones_bm/custom_sticky_force_conf_cp_bl/blocks_1042-1042.h5', '/Users/kadendimarco/Desktop/Shrivinas_lab/genome_archetecture/chromosomes_openmm/polychrom_base/benchmarking/hp_traj_cones_bm/custom_sticky_force_conf_cp_bl/blocks_1043-1043.h5', '/Users/kadendimarco/Desktop/Shrivinas_lab/genome_archetecture/chromosomes_openmm/polychrom_base/benchmarking/hp_traj_cones_bm/custom_sticky_force_conf_cp_bl/blocks_1044-1044.h5', '/Users/kadendimarco/Desktop/Shrivinas_lab/genome_archetecture/chromosomes_openmm/polychrom_base/benchmarking/hp_traj_cones_bm/custom_sticky_force_conf_cp_bl/blocks_1045-1045.h5', '/Users/kadendimarco/Desktop/Shrivinas_lab/genome_archetecture/chromosomes_openmm/polychrom_base/benchmarking/hp_traj_cones_bm/custom_sticky_force_conf_cp_bl/blocks_1046-1046.h5', '/Users/kadendimarco/Desktop/Shrivinas_lab/genome_archetecture/chromosomes_openmm/polychrom_base/benchmarking/hp_traj_cones_bm/custom_sticky_force_conf_cp_bl/blocks_1047-1047.h5', '/Users/kadendimarco/Desktop/Shrivinas_lab/genome_archetecture/chromosomes_openmm/polychrom_base/benchmarking/hp_traj_cones_bm/custom_sticky_force_conf_cp_bl/blocks_1048-1048.h5', '/Users/kadendimarco/Desktop/Shrivinas_lab/genome_archetecture/chromosomes_openmm/polychrom_base/benchmarking/hp_traj_cones_bm/custom_sticky_force_conf_cp_bl/blocks_1049-1049.h5', '/Users/kadendimarco/Desktop/Shrivinas_lab/genome_archetecture/chromosomes_openmm/polychrom_base/benchmarking/hp_traj_cones_bm/custom_sticky_force_conf_cp_bl/blocks_1050-1050.h5', '/Users/kadendimarco/Desktop/Shrivinas_lab/genome_archetecture/chromosomes_openmm/polychrom_base/benchmarking/hp_traj_cones_bm/custom_sticky_force_conf_cp_bl/blocks_1051-1051.h5', '/Users/kadendimarco/Desktop/Shrivinas_lab/genome_archetecture/chromosomes_openmm/polychrom_base/benchmarking/hp_traj_cones_bm/custom_sticky_force_conf_cp_bl/blocks_1052-1052.h5', '/Users/kadendimarco/Desktop/Shrivinas_lab/genome_archetecture/chromosomes_openmm/polychrom_base/benchmarking/hp_traj_cones_bm/custom_sticky_force_conf_cp_bl/blocks_1053-1053.h5', '/Users/kadendimarco/Desktop/Shrivinas_lab/genome_archetecture/chromosomes_openmm/polychrom_base/benchmarking/hp_traj_cones_bm/custom_sticky_force_conf_cp_bl/blocks_1054-1054.h5', '/Users/kadendimarco/Desktop/Shrivinas_lab/genome_archetecture/chromosomes_openmm/polychrom_base/benchmarking/hp_traj_cones_bm/custom_sticky_force_conf_cp_bl/blocks_1055-1055.h5', '/Users/kadendimarco/Desktop/Shrivinas_lab/genome_archetecture/chromosomes_openmm/polychrom_base/benchmarking/hp_traj_cones_bm/custom_sticky_force_conf_cp_bl/blocks_1056-1056.h5', '/Users/kadendimarco/Desktop/Shrivinas_lab/genome_archetecture/chromosomes_openmm/polychrom_base/benchmarking/hp_traj_cones_bm/custom_sticky_force_conf_cp_bl/blocks_1057-1057.h5', '/Users/kadendimarco/Desktop/Shrivinas_lab/genome_archetecture/chromosomes_openmm/polychrom_base/benchmarking/hp_traj_cones_bm/custom_sticky_force_conf_cp_bl/blocks_1058-1058.h5', '/Users/kadendimarco/Desktop/Shrivinas_lab/genome_archetecture/chromosomes_openmm/polychrom_base/benchmarking/hp_traj_cones_bm/custom_sticky_force_conf_cp_bl/blocks_1059-1059.h5', '/Users/kadendimarco/Desktop/Shrivinas_lab/genome_archetecture/chromosomes_openmm/polychrom_base/benchmarking/hp_traj_cones_bm/custom_sticky_force_conf_cp_bl/blocks_1060-1060.h5', '/Users/kadendimarco/Desktop/Shrivinas_lab/genome_archetecture/chromosomes_openmm/polychrom_base/benchmarking/hp_traj_cones_bm/custom_sticky_force_conf_cp_bl/blocks_1061-1061.h5', '/Users/kadendimarco/Desktop/Shrivinas_lab/genome_archetecture/chromosomes_openmm/polychrom_base/benchmarking/hp_traj_cones_bm/custom_sticky_force_conf_cp_bl/blocks_1062-1062.h5', '/Users/kadendimarco/Desktop/Shrivinas_lab/genome_archetecture/chromosomes_openmm/polychrom_base/benchmarking/hp_traj_cones_bm/custom_sticky_force_conf_cp_bl/blocks_1063-1063.h5', '/Users/kadendimarco/Desktop/Shrivinas_lab/genome_archetecture/chromosomes_openmm/polychrom_base/benchmarking/hp_traj_cones_bm/custom_sticky_force_conf_cp_bl/blocks_1064-1064.h5', '/Users/kadendimarco/Desktop/Shrivinas_lab/genome_archetecture/chromosomes_openmm/polychrom_base/benchmarking/hp_traj_cones_bm/custom_sticky_force_conf_cp_bl/blocks_1065-1065.h5', '/Users/kadendimarco/Desktop/Shrivinas_lab/genome_archetecture/chromosomes_openmm/polychrom_base/benchmarking/hp_traj_cones_bm/custom_sticky_force_conf_cp_bl/blocks_1066-1066.h5', '/Users/kadendimarco/Desktop/Shrivinas_lab/genome_archetecture/chromosomes_openmm/polychrom_base/benchmarking/hp_traj_cones_bm/custom_sticky_force_conf_cp_bl/blocks_1067-1067.h5', '/Users/kadendimarco/Desktop/Shrivinas_lab/genome_archetecture/chromosomes_openmm/polychrom_base/benchmarking/hp_traj_cones_bm/custom_sticky_force_conf_cp_bl/blocks_1068-1068.h5', '/Users/kadendimarco/Desktop/Shrivinas_lab/genome_archetecture/chromosomes_openmm/polychrom_base/benchmarking/hp_traj_cones_bm/custom_sticky_force_conf_cp_bl/blocks_1069-1069.h5', '/Users/kadendimarco/Desktop/Shrivinas_lab/genome_archetecture/chromosomes_openmm/polychrom_base/benchmarking/hp_traj_cones_bm/custom_sticky_force_conf_cp_bl/blocks_1070-1070.h5', '/Users/kadendimarco/Desktop/Shrivinas_lab/genome_archetecture/chromosomes_openmm/polychrom_base/benchmarking/hp_traj_cones_bm/custom_sticky_force_conf_cp_bl/blocks_1071-1071.h5', '/Users/kadendimarco/Desktop/Shrivinas_lab/genome_archetecture/chromosomes_openmm/polychrom_base/benchmarking/hp_traj_cones_bm/custom_sticky_force_conf_cp_bl/blocks_1072-1072.h5', '/Users/kadendimarco/Desktop/Shrivinas_lab/genome_archetecture/chromosomes_openmm/polychrom_base/benchmarking/hp_traj_cones_bm/custom_sticky_force_conf_cp_bl/blocks_1073-1073.h5', '/Users/kadendimarco/Desktop/Shrivinas_lab/genome_archetecture/chromosomes_openmm/polychrom_base/benchmarking/hp_traj_cones_bm/custom_sticky_force_conf_cp_bl/blocks_1074-1074.h5', '/Users/kadendimarco/Desktop/Shrivinas_lab/genome_archetecture/chromosomes_openmm/polychrom_base/benchmarking/hp_traj_cones_bm/custom_sticky_force_conf_cp_bl/blocks_1075-1075.h5', '/Users/kadendimarco/Desktop/Shrivinas_lab/genome_archetecture/chromosomes_openmm/polychrom_base/benchmarking/hp_traj_cones_bm/custom_sticky_force_conf_cp_bl/blocks_1076-1076.h5', '/Users/kadendimarco/Desktop/Shrivinas_lab/genome_archetecture/chromosomes_openmm/polychrom_base/benchmarking/hp_traj_cones_bm/custom_sticky_force_conf_cp_bl/blocks_1077-1077.h5', '/Users/kadendimarco/Desktop/Shrivinas_lab/genome_archetecture/chromosomes_openmm/polychrom_base/benchmarking/hp_traj_cones_bm/custom_sticky_force_conf_cp_bl/blocks_1078-1078.h5', '/Users/kadendimarco/Desktop/Shrivinas_lab/genome_archetecture/chromosomes_openmm/polychrom_base/benchmarking/hp_traj_cones_bm/custom_sticky_force_conf_cp_bl/blocks_1079-1079.h5', '/Users/kadendimarco/Desktop/Shrivinas_lab/genome_archetecture/chromosomes_openmm/polychrom_base/benchmarking/hp_traj_cones_bm/custom_sticky_force_conf_cp_bl/blocks_1080-1080.h5', '/Users/kadendimarco/Desktop/Shrivinas_lab/genome_archetecture/chromosomes_openmm/polychrom_base/benchmarking/hp_traj_cones_bm/custom_sticky_force_conf_cp_bl/blocks_1081-1081.h5', '/Users/kadendimarco/Desktop/Shrivinas_lab/genome_archetecture/chromosomes_openmm/polychrom_base/benchmarking/hp_traj_cones_bm/custom_sticky_force_conf_cp_bl/blocks_1082-1082.h5', '/Users/kadendimarco/Desktop/Shrivinas_lab/genome_archetecture/chromosomes_openmm/polychrom_base/benchmarking/hp_traj_cones_bm/custom_sticky_force_conf_cp_bl/blocks_1083-1083.h5', '/Users/kadendimarco/Desktop/Shrivinas_lab/genome_archetecture/chromosomes_openmm/polychrom_base/benchmarking/hp_traj_cones_bm/custom_sticky_force_conf_cp_bl/blocks_1084-1084.h5', '/Users/kadendimarco/Desktop/Shrivinas_lab/genome_archetecture/chromosomes_openmm/polychrom_base/benchmarking/hp_traj_cones_bm/custom_sticky_force_conf_cp_bl/blocks_1085-1085.h5', '/Users/kadendimarco/Desktop/Shrivinas_lab/genome_archetecture/chromosomes_openmm/polychrom_base/benchmarking/hp_traj_cones_bm/custom_sticky_force_conf_cp_bl/blocks_1086-1086.h5', '/Users/kadendimarco/Desktop/Shrivinas_lab/genome_archetecture/chromosomes_openmm/polychrom_base/benchmarking/hp_traj_cones_bm/custom_sticky_force_conf_cp_bl/blocks_1087-1087.h5', '/Users/kadendimarco/Desktop/Shrivinas_lab/genome_archetecture/chromosomes_openmm/polychrom_base/benchmarking/hp_traj_cones_bm/custom_sticky_force_conf_cp_bl/blocks_1088-1088.h5', '/Users/kadendimarco/Desktop/Shrivinas_lab/genome_archetecture/chromosomes_openmm/polychrom_base/benchmarking/hp_traj_cones_bm/custom_sticky_force_conf_cp_bl/blocks_1089-1089.h5', '/Users/kadendimarco/Desktop/Shrivinas_lab/genome_archetecture/chromosomes_openmm/polychrom_base/benchmarking/hp_traj_cones_bm/custom_sticky_force_conf_cp_bl/blocks_1090-1090.h5', '/Users/kadendimarco/Desktop/Shrivinas_lab/genome_archetecture/chromosomes_openmm/polychrom_base/benchmarking/hp_traj_cones_bm/custom_sticky_force_conf_cp_bl/blocks_1091-1091.h5', '/Users/kadendimarco/Desktop/Shrivinas_lab/genome_archetecture/chromosomes_openmm/polychrom_base/benchmarking/hp_traj_cones_bm/custom_sticky_force_conf_cp_bl/blocks_1092-1092.h5', '/Users/kadendimarco/Desktop/Shrivinas_lab/genome_archetecture/chromosomes_openmm/polychrom_base/benchmarking/hp_traj_cones_bm/custom_sticky_force_conf_cp_bl/blocks_1093-1093.h5', '/Users/kadendimarco/Desktop/Shrivinas_lab/genome_archetecture/chromosomes_openmm/polychrom_base/benchmarking/hp_traj_cones_bm/custom_sticky_force_conf_cp_bl/blocks_1094-1094.h5', '/Users/kadendimarco/Desktop/Shrivinas_lab/genome_archetecture/chromosomes_openmm/polychrom_base/benchmarking/hp_traj_cones_bm/custom_sticky_force_conf_cp_bl/blocks_1095-1095.h5', '/Users/kadendimarco/Desktop/Shrivinas_lab/genome_archetecture/chromosomes_openmm/polychrom_base/benchmarking/hp_traj_cones_bm/custom_sticky_force_conf_cp_bl/blocks_1096-1096.h5', '/Users/kadendimarco/Desktop/Shrivinas_lab/genome_archetecture/chromosomes_openmm/polychrom_base/benchmarking/hp_traj_cones_bm/custom_sticky_force_conf_cp_bl/blocks_1097-1097.h5', '/Users/kadendimarco/Desktop/Shrivinas_lab/genome_archetecture/chromosomes_openmm/polychrom_base/benchmarking/hp_traj_cones_bm/custom_sticky_force_conf_cp_bl/blocks_1098-1098.h5', '/Users/kadendimarco/Desktop/Shrivinas_lab/genome_archetecture/chromosomes_openmm/polychrom_base/benchmarking/hp_traj_cones_bm/custom_sticky_force_conf_cp_bl/blocks_1099-1099.h5', '/Users/kadendimarco/Desktop/Shrivinas_lab/genome_archetecture/chromosomes_openmm/polychrom_base/benchmarking/hp_traj_cones_bm/custom_sticky_force_conf_cp_bl/blocks_1100-1100.h5', '/Users/kadendimarco/Desktop/Shrivinas_lab/genome_archetecture/chromosomes_openmm/polychrom_base/benchmarking/hp_traj_cones_bm/custom_sticky_force_conf_cp_bl/blocks_1101-1101.h5']\n"
     ]
    }
   ],
   "source": [
    "#starting data\n",
    "import glob\n",
    "import re\n",
    "from pathlib import Path\n",
    "\n",
    "trajectory_path = '/Users/kadendimarco/Desktop/Shrivinas_lab/genome_archetecture/chromosomes_openmm/polychrom_base/benchmarking/hp_traj_cones_bm/custom_sticky_force_conf_cp_bl'\n",
    "\n",
    "block_files = glob.glob(str(Path(trajectory_path) / \"blocks_*.h5\"))\n",
    "\n",
    "# Sort block files numerically based on block number\n",
    "def extract_start_index(filename):\n",
    "    match = re.search(r'blocks_(\\d+)-\\d+\\.h5', filename)\n",
    "    return int(match.group(1)) if match else -1\n",
    "\n",
    "# Sort by the extracted start index\n",
    "block_files_sorted = sorted(block_files, key=extract_start_index)\n",
    "\n",
    "print(block_files_sorted)\n",
    "\n",
    "#throw out first few blocks\n",
    "block_files_sorted = block_files_sorted[5:]\n",
    "\n",
    "\n"
   ]
  },
  {
   "cell_type": "markdown",
   "metadata": {},
   "source": [
    "There are 8 chains, 4 copies of each chromosome. I will process as usual and then aggregate (should be 12,000 X12,000 at end)\n",
    "\n",
    "Go from 48,000X3 to 48,000X48,000\n",
    "\n",
    "something like this\n",
    "for i in range pos[]\n",
    "\n",
    "misc info\n",
    "print(np.min(pos))  ->  -149.1\n",
    "print(np.max(pos))  ->  100.55\n",
    "\n"
   ]
  },
  {
   "cell_type": "code",
   "execution_count": 19,
   "metadata": {},
   "outputs": [
    {
     "name": "stdout",
     "output_type": "stream",
     "text": [
      "Examining file: /Users/kadendimarco/Desktop/Shrivinas_lab/genome_archetecture/chromosomes_openmm/polychrom_base/benchmarking/hp_traj_cones_bm/custom_sticky_force_conf_cp_bl/blocks_1006-1006.h5\n",
      "\n",
      "File structure:\n",
      "Groups: ['1006']\n"
     ]
    },
    {
     "ename": "KeyError",
     "evalue": "\"Unable to synchronously open object (object '0' doesn't exist)\"",
     "output_type": "error",
     "traceback": [
      "\u001b[0;31m---------------------------------------------------------------------------\u001b[0m",
      "\u001b[0;31mKeyError\u001b[0m                                  Traceback (most recent call last)",
      "Cell \u001b[0;32mIn[19], line 19\u001b[0m\n\u001b[1;32m     16\u001b[0m \u001b[38;5;28mprint\u001b[39m(\u001b[38;5;124m\"\u001b[39m\u001b[38;5;124mGroups:\u001b[39m\u001b[38;5;124m\"\u001b[39m, \u001b[38;5;28mlist\u001b[39m(f\u001b[38;5;241m.\u001b[39mkeys()))\n\u001b[1;32m     18\u001b[0m \u001b[38;5;66;03m# Look at the first block (group '0')\u001b[39;00m\n\u001b[0;32m---> 19\u001b[0m first_group \u001b[38;5;241m=\u001b[39m \u001b[43mf\u001b[49m\u001b[43m[\u001b[49m\u001b[38;5;124;43m'\u001b[39;49m\u001b[38;5;124;43m0\u001b[39;49m\u001b[38;5;124;43m'\u001b[39;49m\u001b[43m]\u001b[49m\n\u001b[1;32m     20\u001b[0m \u001b[38;5;28mprint\u001b[39m(\u001b[38;5;124m\"\u001b[39m\u001b[38;5;130;01m\\n\u001b[39;00m\u001b[38;5;124mFirst block contents:\u001b[39m\u001b[38;5;124m\"\u001b[39m)\n\u001b[1;32m     21\u001b[0m \u001b[38;5;28mprint\u001b[39m(\u001b[38;5;124m\"\u001b[39m\u001b[38;5;124mDatasets in block:\u001b[39m\u001b[38;5;124m\"\u001b[39m, \u001b[38;5;28mlist\u001b[39m(first_group\u001b[38;5;241m.\u001b[39mkeys()))\n",
      "File \u001b[0;32mh5py/_objects.pyx:54\u001b[0m, in \u001b[0;36mh5py._objects.with_phil.wrapper\u001b[0;34m()\u001b[0m\n",
      "File \u001b[0;32mh5py/_objects.pyx:55\u001b[0m, in \u001b[0;36mh5py._objects.with_phil.wrapper\u001b[0;34m()\u001b[0m\n",
      "File \u001b[0;32m~/.local/share/mamba/envs/polychrom/lib/python3.10/site-packages/h5py/_hl/group.py:360\u001b[0m, in \u001b[0;36mGroup.__getitem__\u001b[0;34m(self, name)\u001b[0m\n\u001b[1;32m    358\u001b[0m         \u001b[38;5;28;01mraise\u001b[39;00m \u001b[38;5;167;01mValueError\u001b[39;00m(\u001b[38;5;124m\"\u001b[39m\u001b[38;5;124mInvalid HDF5 object reference\u001b[39m\u001b[38;5;124m\"\u001b[39m)\n\u001b[1;32m    359\u001b[0m \u001b[38;5;28;01melif\u001b[39;00m \u001b[38;5;28misinstance\u001b[39m(name, (\u001b[38;5;28mbytes\u001b[39m, \u001b[38;5;28mstr\u001b[39m)):\n\u001b[0;32m--> 360\u001b[0m     oid \u001b[38;5;241m=\u001b[39m \u001b[43mh5o\u001b[49m\u001b[38;5;241;43m.\u001b[39;49m\u001b[43mopen\u001b[49m\u001b[43m(\u001b[49m\u001b[38;5;28;43mself\u001b[39;49m\u001b[38;5;241;43m.\u001b[39;49m\u001b[43mid\u001b[49m\u001b[43m,\u001b[49m\u001b[43m \u001b[49m\u001b[38;5;28;43mself\u001b[39;49m\u001b[38;5;241;43m.\u001b[39;49m\u001b[43m_e\u001b[49m\u001b[43m(\u001b[49m\u001b[43mname\u001b[49m\u001b[43m)\u001b[49m\u001b[43m,\u001b[49m\u001b[43m \u001b[49m\u001b[43mlapl\u001b[49m\u001b[38;5;241;43m=\u001b[39;49m\u001b[38;5;28;43mself\u001b[39;49m\u001b[38;5;241;43m.\u001b[39;49m\u001b[43m_lapl\u001b[49m\u001b[43m)\u001b[49m\n\u001b[1;32m    361\u001b[0m \u001b[38;5;28;01melse\u001b[39;00m:\n\u001b[1;32m    362\u001b[0m     \u001b[38;5;28;01mraise\u001b[39;00m \u001b[38;5;167;01mTypeError\u001b[39;00m(\u001b[38;5;124m\"\u001b[39m\u001b[38;5;124mAccessing a group is done with bytes or str, \u001b[39m\u001b[38;5;124m\"\u001b[39m\n\u001b[1;32m    363\u001b[0m                     \u001b[38;5;124m\"\u001b[39m\u001b[38;5;124mnot \u001b[39m\u001b[38;5;132;01m{}\u001b[39;00m\u001b[38;5;124m\"\u001b[39m\u001b[38;5;241m.\u001b[39mformat(\u001b[38;5;28mtype\u001b[39m(name)))\n",
      "File \u001b[0;32mh5py/_objects.pyx:54\u001b[0m, in \u001b[0;36mh5py._objects.with_phil.wrapper\u001b[0;34m()\u001b[0m\n",
      "File \u001b[0;32mh5py/_objects.pyx:55\u001b[0m, in \u001b[0;36mh5py._objects.with_phil.wrapper\u001b[0;34m()\u001b[0m\n",
      "File \u001b[0;32mh5py/h5o.pyx:257\u001b[0m, in \u001b[0;36mh5py.h5o.open\u001b[0;34m()\u001b[0m\n",
      "\u001b[0;31mKeyError\u001b[0m: \"Unable to synchronously open object (object '0' doesn't exist)\""
     ]
    }
   ],
   "source": [
    "#just for first file\n",
    "#This used more than 12GB memory and I had to stop it...\n",
    "\n",
    "import h5py\n",
    "import numpy as np\n",
    "\n",
    "# Get the first block file from your sorted list\n",
    "first_block_file = block_files_sorted[1]\n",
    "print(f\"Examining file: {first_block_file}\")\n",
    "\n",
    "spatial_distance_bins = {}\n",
    "\n",
    "with h5py.File(first_block_file, 'r') as f:\n",
    "    # Print the structure\n",
    "    print(\"\\nFile structure:\")\n",
    "    print(\"Groups:\", list(f.keys()))\n",
    "    \n",
    "    # Look at the first block (group '0')\n",
    "    first_group = f['0']\n",
    "    print(\"\\nFirst block contents:\")\n",
    "    print(\"Datasets in block:\", list(first_group.keys()))\n",
    "    \n",
    "    # pos is NX3 array\n",
    "    pos = first_group['pos'][:]\n",
    "    print(pos.shape)\n",
    "\n",
    "    N = pos.shape[0]\n",
    "    # for i in range(N):\n",
    "    #     for j in range(i+1, N):\n",
    "    #         monomer_index_separation = j-i\n",
    "    #         spatial_distance = np.linalg.norm(pos[i] - pos[j])\n",
    "    #         if monomer_index_separation not in spatial_distance_bins:\n",
    "    #             spatial_distance_bins[monomer_index_separation] = []\n",
    "    #         else:\n",
    "    #             spatial_distance_bins[monomer_index_separation].append(spatial_distance)\n",
    "    "
   ]
  },
  {
   "cell_type": "code",
   "execution_count": 10,
   "metadata": {},
   "outputs": [
    {
     "name": "stdout",
     "output_type": "stream",
     "text": [
      "100.55\n"
     ]
    }
   ],
   "source": [
    "print(np.max(pos))"
   ]
  },
  {
   "cell_type": "code",
   "execution_count": 11,
   "metadata": {},
   "outputs": [
    {
     "name": "stdout",
     "output_type": "stream",
     "text": [
      "Closest triplet indices: (25098, 25280, 25279)\n",
      "Coordinates:\n",
      " [[ 58.9   45.52 -43.51]\n",
      " [ 58.83  45.67 -43.44]\n",
      " [ 59.41  44.88 -43.63]]\n"
     ]
    }
   ],
   "source": [
    "import numpy as np\n",
    "from scipy.spatial.distance import pdist, squareform\n",
    "\n",
    "# Assume pos is a (48000, 3) numpy array\n",
    "# Step 1: Compute the pairwise distance matrix\n",
    "dist_matrix = squareform(pdist(pos))  # shape (48000, 48000)\n",
    "\n",
    "# Step 2: Initialize best triplet and distance\n",
    "best_triplet = None\n",
    "min_total_dist = np.inf\n",
    "\n",
    "# Step 3: Loop over each point and check closest two others\n",
    "for i in range(len(pos)):\n",
    "    # Get distances from point i to all others\n",
    "    dists = dist_matrix[i]\n",
    "    dists[i] = np.inf  # ignore self-distance\n",
    "\n",
    "    # Find two nearest neighbors to i\n",
    "    nearest = np.argpartition(dists, 2)[:2]\n",
    "    \n",
    "    # Compute total distance between the 3 points\n",
    "    i1, i2 = nearest\n",
    "    total_dist = dists[i1] + dists[i2] + dist_matrix[i1, i2]\n",
    "\n",
    "    if total_dist < min_total_dist:\n",
    "        min_total_dist = total_dist\n",
    "        best_triplet = (i, i1, i2)\n",
    "\n",
    "# Step 4: Print result\n",
    "print(\"Closest triplet indices:\", best_triplet)\n",
    "print(\"Coordinates:\\n\", pos[list(best_triplet)])\n"
   ]
  },
  {
   "cell_type": "code",
   "execution_count": null,
   "metadata": {},
   "outputs": [
    {
     "name": "stdout",
     "output_type": "stream",
     "text": [
      "[ 58.9   45.52 -43.51]\n"
     ]
    }
   ],
   "source": [
    "print(pos[25098])"
   ]
  },
  {
   "cell_type": "code",
   "execution_count": 21,
   "metadata": {},
   "outputs": [
    {
     "name": "stdout",
     "output_type": "stream",
     "text": [
      "Examining file: /Users/kadendimarco/Desktop/Shrivinas_lab/genome_archetecture/chromosomes_openmm/polychrom_base/benchmarking/hp_traj_cones_bm/custom_sticky_force_conf_cp_bl/blocks_1006-1006.h5\n",
      "\n",
      "File structure:\n",
      "Groups: ['1006']\n",
      "\n",
      "First group name: 1006\n",
      "\n",
      "First block contents:\n",
      "Datasets in block: ['pos']\n"
     ]
    }
   ],
   "source": [
    "import h5py\n",
    "import numpy as np\n",
    "\n",
    "# Get the first block file\n",
    "first_block_file = block_files_sorted[1]\n",
    "print(f\"Examining file: {first_block_file}\")\n",
    "\n",
    "with h5py.File(first_block_file, 'r') as f:\n",
    "    # Print the structure\n",
    "    print(\"\\nFile structure:\")\n",
    "    print(\"Groups:\", list(f.keys()))\n",
    "    \n",
    "    # Get the first group name\n",
    "    first_group_name = list(f.keys())[0]\n",
    "    print(f\"\\nFirst group name: {first_group_name}\")\n",
    "    \n",
    "    # Look at the first block\n",
    "    first_group = f[first_group_name]\n",
    "    print(\"\\nFirst block contents:\")\n",
    "    print(\"Datasets in block:\", list(first_group.keys()))"
   ]
  },
  {
   "cell_type": "code",
   "execution_count": null,
   "metadata": {},
   "outputs": [],
   "source": []
  }
 ],
 "metadata": {
  "kernelspec": {
   "display_name": "Python 3",
   "language": "python",
   "name": "python3"
  },
  "language_info": {
   "codemirror_mode": {
    "name": "ipython",
    "version": 3
   },
   "file_extension": ".py",
   "mimetype": "text/x-python",
   "name": "python",
   "nbconvert_exporter": "python",
   "pygments_lexer": "ipython3",
   "version": "3.10.16"
  }
 },
 "nbformat": 4,
 "nbformat_minor": 2
}
