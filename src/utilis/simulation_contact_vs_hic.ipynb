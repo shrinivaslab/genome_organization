{
 "cells": [
  {
   "cell_type": "markdown",
   "metadata": {},
   "source": [
    "Experimental hic is here:\n",
    "/Users/kadendimarco/Desktop/Shrivinas_lab/genome_archetecture/utilis/HiC_processing/test_data/GSM3020629_NN-ThymocytesWT-R1-HindIII.mcool\n",
    "\n",
    "Simulation mcool is here:\n",
    "/Users/kadendimarco/Desktop/Shrivinas_lab/genome_archetecture/github/genome_organization/src/utilis/hp_sim_cones_consensus.mcool\n",
    "\n",
    "\n",
    "looks like we need same bin size (resolution) and same chromosome names.\n",
    "\n",
    "hicrep /Users/kadendimarco/Desktop/Shrivinas_lab/genome_archetecture/utilis/HiC_processing/test_data/GSM3020629_NN-ThymocytesWT-R1-HindIII.mcool \\\n",
    "/Users/kadendimarco/Desktop/Shrivinas_lab/genome_archetecture/github/genome_organization/src/utilis/hp_sim_cones_consensus.mcool \\\n",
    "cones_sim_vs_HiC.txt --binSize 200000 --dBPMax 500000 -h 3 --chrNames 1 2\n",
    "\n",
    "fixed\n",
    "\n",
    "hicrep /Users/kadendimarco/Desktop/Shrivinas_lab/genome_archetecture/utilis/HiC_processing/test_data/GSM3020629_NN-ThymocytesWT-R1-HindIII.mcool \\\n",
    "/Users/kadendimarco/Desktop/Shrivinas_lab/genome_archetecture/github/genome_organization/src/utilis/hp_sim_cones_consensus.mcool \\\n",
    "cones_sim_vs_HiC.txt --binSize 200000 --dBPMax 500000 --h 3 --chrNames 1 2\n"
   ]
  },
  {
   "cell_type": "code",
   "execution_count": 4,
   "metadata": {},
   "outputs": [],
   "source": [
    "import numpy as np\n",
    "import matplotlib.pyplot as plt\n",
    "import seaborn as sns\n",
    "import pandas as pd\n",
    "import os\n",
    "import cooltools\n",
    "import cooler\n",
    "import h5py"
   ]
  },
  {
   "cell_type": "code",
   "execution_count": 2,
   "metadata": {},
   "outputs": [
    {
     "data": {
      "text/plain": [
       "['/resolutions/20000',\n",
       " '/resolutions/40000',\n",
       " '/resolutions/80000',\n",
       " '/resolutions/160000',\n",
       " '/resolutions/200000',\n",
       " '/resolutions/320000',\n",
       " '/resolutions/640000']"
      ]
     },
     "execution_count": 2,
     "metadata": {},
     "output_type": "execute_result"
    }
   ],
   "source": [
    "cooler.fileops.list_coolers('/Users/kadendimarco/Desktop/Shrivinas_lab/genome_archetecture/utilis/HiC_processing/test_data/GSM3020629_NN-ThymocytesWT-R1-HindIII.mcool')"
   ]
  },
  {
   "cell_type": "code",
   "execution_count": 5,
   "metadata": {},
   "outputs": [],
   "source": [
    "#rewrite chrom names\n",
    "\n",
    "# Open the mcool file in read-write mode\n",
    "with h5py.File('hp_sim_cones_consensus.mcool', 'r+') as f:\n",
    "    # Update chromosome names in both resolutions\n",
    "    for res in ['40000', '200000']:\n",
    "        # Get the chromosomes dataset\n",
    "        chroms = f[f'resolutions/{res}/chroms/name']\n",
    "        # Update the names\n",
    "        chroms[0] = '1'\n",
    "        chroms[1] = '2'"
   ]
  },
  {
   "cell_type": "markdown",
   "metadata": {},
   "source": []
  },
  {
   "cell_type": "code",
   "execution_count": 6,
   "metadata": {},
   "outputs": [
    {
     "name": "stdout",
     "output_type": "stream",
     "text": [
      "chromosomes: ['1', '2'], binsize: 200000\n",
      "chromosomes: ['1', '2', '3', '4', '5', '6', '7', '8', '9', '10', '11', '12', '13', '14', '15', '16', '17', '18', '19', 'X'], binsize: 200000\n"
     ]
    }
   ],
   "source": [
    "sim_clr_2000kb = cooler.Cooler(f'/Users/kadendimarco/Desktop/Shrivinas_lab/genome_archetecture/github/genome_organization/src/utilis/hp_sim_cones_consensus.mcool::resolutions/200000')\n",
    "\n",
    "exp_clr_2000kb = cooler.Cooler(f'/Users/kadendimarco/Desktop/Shrivinas_lab/genome_archetecture/utilis/HiC_processing/test_data/GSM3020629_NN-ThymocytesWT-R1-HindIII.mcool::resolutions/200000')\n",
    "\n",
    "print(f'chromosomes: {sim_clr_2000kb.chromnames}, binsize: {sim_clr_2000kb.binsize}')\n",
    "\n",
    "print(f'chromosomes: {exp_clr_2000kb.chromnames}, binsize: {exp_clr_2000kb.binsize}')\n",
    "\n"
   ]
  },
  {
   "cell_type": "code",
   "execution_count": 7,
   "metadata": {},
   "outputs": [
    {
     "name": "stdout",
     "output_type": "stream",
     "text": [
      "Simulation file structure:\n",
      "Number of bins: 2400\n",
      "Chromosome sizes: name\n",
      "1    240000000\n",
      "2    240000000\n",
      "Name: length, dtype: int32\n",
      "\n",
      "Experimental file structure:\n",
      "Number of bins: 13203\n",
      "Chromosome sizes: name\n",
      "1     197195432\n",
      "2     181748087\n",
      "3     159599783\n",
      "4     155630120\n",
      "5     152537259\n",
      "6     149517037\n",
      "7     152524553\n",
      "8     131738871\n",
      "9     124076172\n",
      "10    129993255\n",
      "11    121843856\n",
      "12    121257530\n",
      "13    120284312\n",
      "14    125194864\n",
      "15    103494974\n",
      "16     98319150\n",
      "17     95272651\n",
      "18     90772031\n",
      "19     61342430\n",
      "X     166650296\n",
      "Name: length, dtype: int32\n"
     ]
    }
   ],
   "source": [
    "# Check the structure of both files\n",
    "print(\"Simulation file structure:\")\n",
    "sim_clr_2000kb = cooler.Cooler('/Users/kadendimarco/Desktop/Shrivinas_lab/genome_archetecture/github/genome_organization/src/utilis/hp_sim_cones_consensus.mcool::resolutions/200000')\n",
    "print(f\"Number of bins: {sim_clr_2000kb.info['nbins']}\")\n",
    "print(f\"Chromosome sizes: {sim_clr_2000kb.chromsizes}\")\n",
    "\n",
    "print(\"\\nExperimental file structure:\")\n",
    "exp_clr_2000kb = cooler.Cooler('/Users/kadendimarco/Desktop/Shrivinas_lab/genome_archetecture/utilis/HiC_processing/test_data/GSM3020629_NN-ThymocytesWT-R1-HindIII.mcool::resolutions/200000')\n",
    "print(f\"Number of bins: {exp_clr_2000kb.info['nbins']}\")\n",
    "print(f\"Chromosome sizes: {exp_clr_2000kb.chromsizes}\")"
   ]
  },
  {
   "cell_type": "code",
   "execution_count": null,
   "metadata": {},
   "outputs": [],
   "source": []
  }
 ],
 "metadata": {
  "kernelspec": {
   "display_name": "Python 3",
   "language": "python",
   "name": "python3"
  },
  "language_info": {
   "codemirror_mode": {
    "name": "ipython",
    "version": 3
   },
   "file_extension": ".py",
   "mimetype": "text/x-python",
   "name": "python",
   "nbconvert_exporter": "python",
   "pygments_lexer": "ipython3",
   "version": "3.10.16"
  }
 },
 "nbformat": 4,
 "nbformat_minor": 2
}
