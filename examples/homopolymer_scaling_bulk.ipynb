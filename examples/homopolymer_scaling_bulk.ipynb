{
 "cells": [
  {
   "cell_type": "code",
   "execution_count": 1,
   "metadata": {},
   "outputs": [],
   "source": [
    "from openmm import app, unit\n",
    "import numpy as np\n",
    "import openmm\n",
    "import fresnel\n",
    "import matplotlib.pyplot as plt\n",
    "from simtk import unit\n",
    "\n",
    "import sys\n",
    "from polychrom.hdf5_format import HDF5Reporter\n",
    "from polychrom import forcekits, forces, simulation\n",
    "\n",
    "from matplotlib.cm import get_cmap\n",
    "from matplotlib.colors import Normalize, to_rgb\n",
    "import matplotlib.patches as mpatches\n",
    "\n",
    "import polykit.polykit.renderers.backends as backends\n",
    "from polykit.polykit.generators.initial_conformations import grow_cubic, create_random_walk\n",
    "import polykit as polykit\n",
    "\n",
    "from polychrom.lib.extrusion import bondUpdater\n",
    "\n",
    "from polychrom.forces import heteropolymer_SSW"
   ]
  },
  {
   "cell_type": "markdown",
   "metadata": {},
   "source": [
    "##run_homopolymer_sim.py input arguments\n",
    "forcelist is a list of tuples. The first index in each tuple is the force you would like to add to the simulation (any force field in /src/polychrom/polychrom/forces.py or /src/polychrom/polychrom/legacy/forces.py), and the second index is keyword arguments for the force. \n",
    "\n",
    "##Default forces for worm-like chain homopolymer simulation\n",
    "(forces.harmonic_bonds, {'bondLength': 1, 'bondWiggleDistance': 0.05})\n",
    "(forces.angle_force, {'k':1.5})\n",
    "(forces.spherical_confinement {'k':3})\n",
    "(forces.polynomial_repulsive, {'trunc':3.0})\n"
   ]
  },
  {
   "cell_type": "code",
   "execution_count": 37,
   "metadata": {},
   "outputs": [],
   "source": [
    "#describe what forces I want to test.\n",
    "\n",
    "base_path = '/Users/kadendimarco/Desktop/Shrivinas_lab/genome_archetecture/chromosomes_openmm/polychrom_base/benchmarking/trajectory/homopolymer_test'\n",
    "\n",
    "forcelist = [\n",
    "    \"[(forces.harmonic_bonds, {'bondLength': 1, 'bondWiggleDistance': 0.05}), (forces.angle_force, {'k':0.015})]\",\n",
    "]\n",
    "\n",
    "\n",
    "trajectory_folder_list = [\n",
    "    f'{base_path}/bonds_angle_angK0.015_r1',\n",
    "]\n",
    "\n",
    "# forcelist = [\n",
    "#     \"[(forces.harmonic_bonds, {'bondLength': 1, 'bondWiggleDistance': 0.05}), (forces.angle_force, {'k':0.15})]\",\n",
    "#     \"[(forces.harmonic_bonds, {'bondLength': 1, 'bondWiggleDistance': 0.05}), (forces.angle_force, {'k':1.5})]\",\n",
    "#     \"[(forces.harmonic_bonds, {'bondLength': 1, 'bondWiggleDistance': 0.05}), (forces.angle_force, {'k':15})]\",\n",
    "#     \"[(forces.harmonic_bonds, {'bondLength': 1, 'bondWiggleDistance': 0.05}), (forces.angle_force, {'k':150})]\"\n",
    "# ]\n",
    "\n",
    "# trajectory_folder_list = [\n",
    "#     f'{base_path}/bonds_angle_angK0.15_r1',\n",
    "#     f'{base_path}/bonds_angle_angK1.5_r1',\n",
    "#     f'{base_path}/bonds_angle_angK15_r1',\n",
    "#     f'{base_path}/bonds_angle_angK150_r1',\n",
    "# ]\n",
    "\n"
   ]
  },
  {
   "cell_type": "code",
   "execution_count": 38,
   "metadata": {},
   "outputs": [
    {
     "name": "stdout",
     "output_type": "stream",
     "text": [
      "Created simulation_homopolymer_commands.txt\n"
     ]
    }
   ],
   "source": [
    "with open('simulation_homopolymer_commands.txt', 'w') as f:\n",
    "    for force, folder in zip(forcelist, trajectory_folder_list):\n",
    "        force_escaped = force.replace(\"'\", \"'\\\\''\")\n",
    "        cmd = f\"python run_homopolymer_sim.py -o {folder} -f '{force_escaped}'\\n\"\n",
    "        f.write(cmd)\n",
    "\n",
    "print(\"Created simulation_homopolymer_commands.txt\")"
   ]
  },
  {
   "cell_type": "markdown",
   "metadata": {},
   "source": [
    "Now run cat simulation_homopolymer_commands.txt | parallel -j 4\n",
    "\n",
    "#below code fits contact frequencies to polymer scaling laws"
   ]
  },
  {
   "cell_type": "code",
   "execution_count": 40,
   "metadata": {},
   "outputs": [],
   "source": [
    "#tile output figures\n",
    "import os\n",
    "import glob\n",
    "import matplotlib.pyplot as plt\n",
    "from PIL import Image\n",
    "import numpy as np\n",
    "\n",
    "base_dir = \"/Users/kadendimarco/Desktop/Shrivinas_lab/genome_archetecture/chromosomes_openmm/polychrom_base/benchmarking/trajectory/homopolymer_test\"\n",
    "\n",
    "# look for prefix corresponding to experiment\n",
    "#if you want first 100 |i-j|\n",
    "png_files = glob.glob(os.path.join(base_dir, \"bonds_angle_angK*\", \"*100.png\"))\n",
    "#if you want all\n",
    "#png_files = glob.glob(os.path.join(base_dir, \"bonds_angle_angK*\", \"*w.png\"))\n",
    "png_files.sort() \n",
    "\n",
    "n_files = len(png_files)\n",
    "n_cols = int(np.ceil(np.sqrt(n_files)))\n",
    "n_rows = int(np.ceil(n_files / n_cols))\n",
    "\n",
    "fig, axes = plt.subplots(n_rows, n_cols, figsize=(n_cols * 4, n_rows * 4))\n",
    "axes = axes.flatten()\n",
    "\n",
    "for idx, png_file in enumerate(png_files):\n",
    "    img = Image.open(png_file)\n",
    "    axes[idx].imshow(img)\n",
    "    axes[idx].axis('off')\n",
    "    # Add title from directory name\n",
    "    dir_name = os.path.basename(os.path.dirname(png_file))\n",
    "    axes[idx].set_title(dir_name)\n",
    "\n",
    "# Hide any unused subplots\n",
    "for idx in range(n_files, len(axes)):\n",
    "    axes[idx].axis('off')\n",
    "\n",
    "plt.tight_layout()\n",
    "plt.savefig('bonds_angle_angK_100_figure.png', dpi=300, bbox_inches='tight')\n",
    "plt.close() "
   ]
  }
 ],
 "metadata": {
  "kernelspec": {
   "display_name": "Python 3",
   "language": "python",
   "name": "python3"
  },
  "language_info": {
   "codemirror_mode": {
    "name": "ipython",
    "version": 3
   },
   "file_extension": ".py",
   "mimetype": "text/x-python",
   "name": "python",
   "nbconvert_exporter": "python",
   "pygments_lexer": "ipython3",
   "version": "3.10.16"
  }
 },
 "nbformat": 4,
 "nbformat_minor": 2
}
